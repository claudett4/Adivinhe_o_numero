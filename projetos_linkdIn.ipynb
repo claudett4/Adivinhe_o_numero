{
  "nbformat": 4,
  "nbformat_minor": 0,
  "metadata": {
    "colab": {
      "provenance": [],
      "authorship_tag": "ABX9TyM/fRzJcFrA1KQR5OQ3DKmw",
      "include_colab_link": true
    },
    "kernelspec": {
      "name": "python3",
      "display_name": "Python 3"
    },
    "language_info": {
      "name": "python"
    }
  },
  "cells": [
    {
      "cell_type": "markdown",
      "metadata": {
        "id": "view-in-github",
        "colab_type": "text"
      },
      "source": [
        "<a href=\"https://colab.research.google.com/github/claudett4/guess_number/blob/main/projetos_linkdIn.ipynb\" target=\"_parent\"><img src=\"https://colab.research.google.com/assets/colab-badge.svg\" alt=\"Open In Colab\"/></a>"
      ]
    },
    {
      "cell_type": "code",
      "execution_count": null,
      "metadata": {
        "id": "kOrYM6VD5SeI"
      },
      "outputs": [],
      "source": [
        "\n",
        "import random\n",
        "\n",
        "def palpite(x):\n",
        "  numero_aleat = random.randint(1, x)\n",
        "  palpite = 0\n",
        "  while palpite != numero_aleat:\n",
        "    palpite = int(input(f'digite um numero entre 1 e {x}: '))\n",
        "    if palpite < numero_aleat:\n",
        "      print(\"o numero é muito baixo, tente novamente!\")\n",
        "    elif palpite > numero_aleat:\n",
        "      print (\"numero muito alto, tente novamente\")\n",
        "  print(f'parabéns você acertou o numero aleatório {numero_aleat} :)')\n",
        "\n",
        "\n",
        "\n",
        "\n",
        "palpite(10)\n"
      ]
    }
  ]
}